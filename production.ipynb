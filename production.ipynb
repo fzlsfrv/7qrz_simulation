{
 "cells": [
  {
   "cell_type": "code",
   "execution_count": 1,
   "id": "c2a99847",
   "metadata": {},
   "outputs": [],
   "source": [
    "import openmm as mm\n",
    "import numpy as np\n",
    "import openmm.app as app\n",
    "import simtk.unit as unit\n",
    "from openmmforcefields.generators import GAFFTemplateGenerator as gen\n",
    "from openff.toolkit import Topology\n",
    "import pytraj as pt\n",
    "import os\n",
    "import matplotlib.pyplot as plt\n",
    "\n",
    "from openmm.app import CharmmPsfFile, CharmmCrdFile, CharmmParameterSet\n",
    "\n"
   ]
  },
  {
   "cell_type": "code",
   "execution_count": 2,
   "id": "bd12dcdd",
   "metadata": {},
   "outputs": [],
   "source": [
    "base = '/scratch/htc/fsafarov/structures/7rqz_sep_2025/7qrz'\n",
    "\n",
    "#We use psf and crd system because pdb files does not support the 6-digit base system for ATOM ID's, which is in our case utilized for POPC. \n",
    "#Input below is from psf and crd from CHARMM-GUI.\n",
    "psf = CharmmPsfFile(os.path.join(base, 'step5_assembly.psf'))\n",
    "crd = CharmmCrdFile(os.path.join(base, 'step5_assembly.crd'))\n",
    "\n"
   ]
  },
  {
   "cell_type": "code",
   "execution_count": 3,
   "id": "6c732023-8bf7-4e47-ae62-3691f9700aa0",
   "metadata": {},
   "outputs": [],
   "source": [
    "state = mm.XmlSerializer.deserialize(open('/scratch/htc/fsafarov/states/trpv1/7rqz/relaxation.xml').read())\n",
    "centered_positions = state.getPositions()"
   ]
  },
  {
   "cell_type": "code",
   "execution_count": 4,
   "id": "8fc01779-fdb3-4fe9-b932-00ad6c69c167",
   "metadata": {},
   "outputs": [],
   "source": [
    "with open('/scratch/htc/fsafarov/states/trpv1/7rqz/relaxed_system.xml') as input:\n",
    "    system = mm.XmlSerializer.deserialize(input.read())"
   ]
  },
  {
   "cell_type": "code",
   "execution_count": 5,
   "id": "1fc1f1c9-4f0d-438d-b967-fbb00f29baff",
   "metadata": {},
   "outputs": [],
   "source": [
    "integrator_pr = mm.LangevinIntegrator(300*unit.kelvin, 1.0/unit.picoseconds, 2.0*unit.femtoseconds)"
   ]
  },
  {
   "cell_type": "code",
   "execution_count": 6,
   "id": "7593a562-e3a5-4d08-b6a1-d3da30f8b0e9",
   "metadata": {},
   "outputs": [],
   "source": [
    "platform = mm.Platform.getPlatformByName('CUDA')\n",
    "# #to run the simulation on several GPU's parallelly\n",
    "properties  = {'CudaDeviceIndex': '0,1,2', 'CudaPrecision': 'mixed'}"
   ]
  },
  {
   "cell_type": "code",
   "execution_count": 7,
   "id": "e465e2df-3bf8-40b4-b33e-be379d35a122",
   "metadata": {
    "scrolled": true
   },
   "outputs": [],
   "source": [
    "simulation_pr = app.Simulation(psf.topology, system, integrator_pr, platform, properties)\n",
    "simulation_pr.loadCheckpoint('/scratch/htc/fsafarov/traj/traj_trp/mor_amber_protocol_2/7rqz/step6.chk')\n",
    "state_1 = simulation_pr.context.getState(getVelocities=True)\n",
    "velocities = state_1.getVelocities(asNumpy = True)"
   ]
  },
  {
   "cell_type": "code",
   "execution_count": 8,
   "id": "5494b111-97b0-4f33-aa49-a52ecec9108e",
   "metadata": {},
   "outputs": [],
   "source": [
    "for i in range(system.getNumForces()):\n",
    "    force = system.getForce(i)\n",
    "    if isinstance(force, mm.MonteCarloBarostat):\n",
    "        print('fuck you')\n",
    "        system.removeForce(i)"
   ]
  },
  {
   "cell_type": "code",
   "execution_count": 9,
   "id": "08388107-a651-4245-a230-71ad9dfdad41",
   "metadata": {},
   "outputs": [
    {
     "name": "stdout",
     "output_type": "stream",
     "text": [
      "<openmm.openmm.HarmonicBondForce; proxy of <Swig Object of type 'OpenMM::HarmonicBondForce *' at 0x7f84f8d30d20> >\n",
      "<openmm.openmm.HarmonicAngleForce; proxy of <Swig Object of type 'OpenMM::HarmonicAngleForce *' at 0x7f84f4838990> >\n",
      "<openmm.openmm.HarmonicBondForce; proxy of <Swig Object of type 'OpenMM::HarmonicBondForce *' at 0x7f84f8d30b70> >\n",
      "<openmm.openmm.PeriodicTorsionForce; proxy of <Swig Object of type 'OpenMM::PeriodicTorsionForce *' at 0x7f84f48389c0> >\n",
      "<openmm.openmm.CustomTorsionForce; proxy of <Swig Object of type 'OpenMM::CustomTorsionForce *' at 0x7f850ecafb10> >\n",
      "<openmm.openmm.CMAPTorsionForce; proxy of <Swig Object of type 'OpenMM::CMAPTorsionForce *' at 0x7f84f8d30b70> >\n",
      "<openmm.openmm.NonbondedForce; proxy of <Swig Object of type 'OpenMM::NonbondedForce *' at 0x7f84f8d30d20> >\n",
      "<openmm.openmm.CustomNonbondedForce; proxy of <Swig Object of type 'OpenMM::CustomNonbondedForce *' at 0x7f84f8d30b70> >\n",
      "<openmm.openmm.CMMotionRemover; proxy of <Swig Object of type 'OpenMM::CMMotionRemover *' at 0x7f850e8dbf90> >\n",
      "<openmm.openmm.CustomExternalForce; proxy of <Swig Object of type 'OpenMM::CustomExternalForce *' at 0x7f850e7269a0> >\n",
      "<openmm.openmm.CustomExternalForce; proxy of <Swig Object of type 'OpenMM::CustomExternalForce *' at 0x7f850bb0fb40> >\n"
     ]
    }
   ],
   "source": [
    "for i in range(system.getNumForces()):\n",
    "    force = system.getForce(i)\n",
    "    print(force)"
   ]
  },
  {
   "cell_type": "code",
   "execution_count": 10,
   "id": "8f5af155-1625-4c88-bb85-dd21e99b5b60",
   "metadata": {},
   "outputs": [
    {
     "data": {
      "text/plain": [
       "11"
      ]
     },
     "execution_count": 10,
     "metadata": {},
     "output_type": "execute_result"
    }
   ],
   "source": [
    "system.addForce(mm.MonteCarloAnisotropicBarostat(\n",
    "    mm.Vec3(1, 1, 1)*unit.atmosphere,   \n",
    "    310.15*unit.kelvin,\n",
    "    False, False, True            # scaleX, scaleY, scaleZ\n",
    "))"
   ]
  },
  {
   "cell_type": "code",
   "execution_count": 11,
   "id": "c34e2703-1e9b-40e5-9574-e393d1db6f9e",
   "metadata": {},
   "outputs": [],
   "source": [
    "simulation_pr.context.reinitialize()\n",
    "simulation_pr.context.setPositions(centered_positions)\n",
    "simulation_pr.context.setVelocities(velocities)"
   ]
  },
  {
   "cell_type": "code",
   "execution_count": 12,
   "id": "fcaa679b-b68a-49ed-bb3a-6b3cedb367d9",
   "metadata": {},
   "outputs": [],
   "source": [
    "a_vec, b_vec, c_vec = state.getPeriodicBoxVectors()\n",
    "\n",
    "\n",
    "simulation_pr.context.setPeriodicBoxVectors(a_vec,b_vec,c_vec)"
   ]
  },
  {
   "cell_type": "code",
   "execution_count": 13,
   "id": "cef8adc5-5276-49a1-8da4-c4af9467629a",
   "metadata": {},
   "outputs": [],
   "source": [
    "simulation_pr.context.setParameter('k_1', 0.0*unit.kilocalories_per_mole/unit.angstrom**2)\n",
    "simulation_pr.context.setParameter('k_2', 0.0*unit.kilocalories_per_mole/unit.angstrom**2)"
   ]
  },
  {
   "cell_type": "code",
   "execution_count": 14,
   "id": "446bcfdd-d164-46f8-bd40-8035d8de219d",
   "metadata": {},
   "outputs": [
    {
     "data": {
      "text/plain": [
       "{'AnisotropicMonteCarloTemperature': 310.15,\n",
       " 'MonteCarloPressureX': 1.01325,\n",
       " 'MonteCarloPressureY': 1.01325,\n",
       " 'MonteCarloPressureZ': 1.01325,\n",
       " 'k_1': 0.0,\n",
       " 'k_2': 0.0}"
      ]
     },
     "execution_count": 14,
     "metadata": {},
     "output_type": "execute_result"
    }
   ],
   "source": [
    "dict(simulation_pr.context.getParameters()) #check the padrameters!!!"
   ]
  },
  {
   "cell_type": "code",
   "execution_count": 15,
   "id": "49fb1c54-ffad-497b-8b86-a557304b34b6",
   "metadata": {},
   "outputs": [
    {
     "data": {
      "text/plain": [
       "(50287, 2498.315497144909)"
      ]
     },
     "execution_count": 15,
     "metadata": {},
     "output_type": "execute_result"
    }
   ],
   "source": [
    "#check the forces\n",
    "state_2 = simulation_pr.context.getState(getForces=True, getEnergy=True)\n",
    "forces = state_2.getForces(asNumpy = True).value_in_unit(unit.kilojoule/unit.nanometer/unit.mole)\n",
    "norm = np.linalg.norm(forces, axis = 1)\n",
    "max_force = max(norm)\n",
    "np.argmax(norm), np.max(norm)"
   ]
  },
  {
   "cell_type": "code",
   "execution_count": 16,
   "id": "8a8edf63-6184-42c9-a8ca-6cedbfd40e9e",
   "metadata": {},
   "outputs": [
    {
     "name": "stdout",
     "output_type": "stream",
     "text": [
      "Potential energy: -1481581.807650336 kJ/mol\n",
      "Kinetic energy: 339620.3675430586 kJ/mol\n"
     ]
    }
   ],
   "source": [
    "#check energy\n",
    "print(\"Potential energy:\", state_2.getPotentialEnergy())\n",
    "print(\"Kinetic energy:\", state_2.getKineticEnergy())"
   ]
  },
  {
   "cell_type": "code",
   "execution_count": 17,
   "id": "7f3795f8-7368-4324-9d0f-e513257bf408",
   "metadata": {},
   "outputs": [],
   "source": [
    "simulation_pr.reporters.append(app.DCDReporter('/scratch/htc/fsafarov/traj/traj_trp/mor_amber_protocol_2/7rqz/production_1.dcd', 100000, enforcePeriodicBox=True))\n",
    "simulation_pr.reporters.append(app.CheckpointReporter('/scratch/htc/fsafarov/traj/traj_trp/mor_amber_protocol_2/7rqz/production_1.chk', 100000))\n",
    "simulation_pr.step(50000000)\n"
   ]
  },
  {
   "cell_type": "code",
   "execution_count": 18,
   "id": "25c66531-4aa5-4555-9cd8-d1e941f490e5",
   "metadata": {},
   "outputs": [
    {
     "data": {
      "text/plain": [
       "(27815, 5108.161194864958)"
      ]
     },
     "execution_count": 18,
     "metadata": {},
     "output_type": "execute_result"
    }
   ],
   "source": [
    "#check the forces\n",
    "state_3 = simulation_pr.context.getState(getForces=True, getEnergy=True)\n",
    "forces = state_3.getForces(asNumpy = True).value_in_unit(unit.kilojoule/unit.nanometer/unit.mole)\n",
    "norm = np.linalg.norm(forces, axis = 1)\n",
    "max_force = max(norm)\n",
    "np.argmax(norm), np.max(norm)"
   ]
  },
  {
   "cell_type": "code",
   "execution_count": null,
   "id": "bc22840f-275c-4ba9-b9ac-7a8c80219a9c",
   "metadata": {},
   "outputs": [],
   "source": [
    "simulation_pr.saveState('/scratch/htc/fsafarov/states/mor_amber_protocol_2/production_3.xml')"
   ]
  },
  {
   "cell_type": "code",
   "execution_count": null,
   "id": "300467d2-cf43-4fd9-8eb6-d1f81c57e2be",
   "metadata": {},
   "outputs": [],
   "source": [
    "with open('/scratch/htc/fsafarov/states/mor_amber_protocol_2/prod_system_3.xml', 'w') as f:\n",
    "    f.write(mm.XmlSerializer.serialize(system))"
   ]
  }
 ],
 "metadata": {
  "kernelspec": {
   "display_name": "OpenMM (CUDA2)",
   "language": "python",
   "name": "openmm_ff"
  },
  "language_info": {
   "codemirror_mode": {
    "name": "ipython",
    "version": 3
   },
   "file_extension": ".py",
   "mimetype": "text/x-python",
   "name": "python",
   "nbconvert_exporter": "python",
   "pygments_lexer": "ipython3",
   "version": "3.12.2"
  }
 },
 "nbformat": 4,
 "nbformat_minor": 5
}
