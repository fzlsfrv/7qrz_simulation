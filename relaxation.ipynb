{
 "cells": [
  {
   "cell_type": "code",
   "execution_count": 1,
   "id": "c2a99847",
   "metadata": {},
   "outputs": [],
   "source": [
    "import openmm as mm\n",
    "import numpy as np\n",
    "import openmm.app as app\n",
    "import simtk.unit as unit\n",
    "from openmmforcefields.generators import GAFFTemplateGenerator as gen\n",
    "from openff.toolkit import Topology\n",
    "import pytraj as pt\n",
    "import os\n",
    "import matplotlib.pyplot as plt\n",
    "\n",
    "from openmm.app import CharmmPsfFile, CharmmCrdFile, CharmmParameterSet\n",
    "\n"
   ]
  },
  {
   "cell_type": "code",
   "execution_count": 2,
   "id": "bd12dcdd",
   "metadata": {},
   "outputs": [],
   "source": [
    "base = '/scratch/htc/fsafarov/structures/7rqz_sep_2025/7qrz'\n",
    "\n",
    "#We use psf and crd system because pdb files does not support the 6-digit base system for ATOM ID's, which is in our case utilized for POPC. \n",
    "#Input below is from psf and crd from CHARMM-GUI.\n",
    "exit\n",
    "psf = CharmmPsfFile(os.path.join(base, 'step5_assembly.psf'))\n",
    "crd = CharmmCrdFile(os.path.join(base, 'step5_assembly.crd'))\n",
    "\n",
    "#Input all the parameters from toppar folder of CHARMM-GUI output for all the components of psf and crd.\n",
    "\n",
    "params = CharmmParameterSet(\n",
    "    os.path.join(base, 'toppar/top_all36_prot.rtf'),\n",
    "    os.path.join(base, 'toppar/par_all36m_prot.prm'),\n",
    "    os.path.join(base, 'toppar/top_all36_na.rtf'),\n",
    "    os.path.join(base, 'toppar/par_all36_na.prm'),\n",
    "    os.path.join(base, 'toppar/top_all36_carb.rtf'),\n",
    "    os.path.join(base, 'toppar/par_all36_carb.prm'),\n",
    "    os.path.join(base, 'toppar/top_all36_lipid.rtf'),\n",
    "    os.path.join(base, 'toppar/par_all36_lipid.prm'),\n",
    "    os.path.join(base, 'toppar/top_all36_cgenff.rtf'),\n",
    "    os.path.join(base, 'toppar/par_all36_cgenff.prm'),\n",
    "    os.path.join(base, 'toppar/toppar_all36_moreions.str'),\n",
    "    os.path.join(base, 'toppar/top_interface.rtf'),\n",
    "    os.path.join(base, 'toppar/par_interface.prm'),\n",
    "    os.path.join(base, 'toppar/toppar_all36_nano_lig.str'),\n",
    "    os.path.join(base, 'toppar/toppar_all36_nano_lig_patch.str'),\n",
    "    os.path.join(base, 'toppar/toppar_all36_synthetic_polymer.str'),\n",
    "    os.path.join(base, 'toppar/toppar_all36_synthetic_polymer_patch.str'),\n",
    "    os.path.join(base, 'toppar/toppar_all36_polymer_solvent.str'),\n",
    "    os.path.join(base, 'toppar/toppar_water_ions.str'),\n",
    "    os.path.join(base, 'toppar/toppar_dum_noble_gases.str'),\n",
    "    os.path.join(base, 'toppar/toppar_ions_won.str'),\n",
    "    os.path.join(base, 'toppar/cam.str'),\n",
    "    os.path.join(base, 'toppar/toppar_all36_prot_arg0.str'),\n",
    "    os.path.join(base, 'toppar/toppar_all36_prot_c36m_d_aminoacids.str'),\n",
    "    os.path.join(base, 'toppar/toppar_all36_prot_fluoro_alkanes.str'),\n",
    "    os.path.join(base, 'toppar/toppar_all36_prot_heme.str'),\n",
    "    os.path.join(base, 'toppar/toppar_all36_prot_na_combined.str'),\n",
    "    os.path.join(base, 'toppar/toppar_all36_prot_retinol.str'),\n",
    "    os.path.join(base, 'toppar/toppar_all36_prot_model.str'),\n",
    "    os.path.join(base, 'toppar/toppar_all36_prot_modify_res.str'),\n",
    "    os.path.join(base, 'toppar/toppar_all36_na_nad_ppi.str'),\n",
    "    os.path.join(base, 'toppar/toppar_all36_na_rna_modified.str'),\n",
    "    os.path.join(base, 'toppar/toppar_all36_lipid_sphingo.str'),\n",
    "    os.path.join(base, 'toppar/toppar_all36_lipid_archaeal.str'),\n",
    "    os.path.join(base, 'toppar/toppar_all36_lipid_bacterial.str'),\n",
    "    os.path.join(base, 'toppar/toppar_all36_lipid_cardiolipin.str'),\n",
    "    os.path.join(base, 'toppar/toppar_all36_lipid_cholesterol.str'),\n",
    "    os.path.join(base, 'toppar/toppar_all36_lipid_dag.str'),\n",
    "    os.path.join(base, 'toppar/toppar_all36_lipid_inositol.str'),\n",
    "    os.path.join(base, 'toppar/toppar_all36_lipid_lnp.str'),\n",
    "    os.path.join(base, 'toppar/toppar_all36_lipid_lps.str'),\n",
    "    os.path.join(base, 'toppar/toppar_all36_lipid_mycobacterial.str'),\n",
    "    os.path.join(base, 'toppar/toppar_all36_lipid_miscellaneous.str'),\n",
    "    os.path.join(base, 'toppar/toppar_all36_lipid_model.str'),\n",
    "    os.path.join(base, 'toppar/toppar_all36_lipid_prot.str'),\n",
    "    os.path.join(base, 'toppar/toppar_all36_lipid_tag.str'),\n",
    "    os.path.join(base, 'toppar/toppar_all36_lipid_yeast.str'),\n",
    "    os.path.join(base, 'toppar/toppar_all36_lipid_hmmm.str'),\n",
    "    os.path.join(base, 'toppar/toppar_all36_lipid_detergent.str'),\n",
    "    os.path.join(base, 'toppar/toppar_all36_lipid_ether.str'),\n",
    "    os.path.join(base, 'toppar/toppar_all36_lipid_oxidized.str'),\n",
    "    os.path.join(base, 'toppar/toppar_all36_carb_glycolipid.str'),\n",
    "    os.path.join(base, 'toppar/toppar_all36_carb_glycopeptide.str'),\n",
    "    os.path.join(base, 'toppar/toppar_all36_carb_imlab.str'),\n",
    "    os.path.join(base, 'toppar/toppar_all36_label_spin.str'),\n",
    "    os.path.join(base, 'toppar/toppar_all36_label_fluorophore.str'),\n",
    "    os.path.join(base, '6eu/6eu.rtf'),\n",
    "    os.path.join(base, '6eu/6eu.prm')\n",
    ")"
   ]
  },
  {
   "cell_type": "code",
   "execution_count": 3,
   "id": "6c732023-8bf7-4e47-ae62-3691f9700aa0",
   "metadata": {},
   "outputs": [],
   "source": [
    "state = mm.XmlSerializer.deserialize(open('/scratch/htc/fsafarov/states/trpv1/7rqz/minimization_7lpe.xml').read())\n",
    "centered_positions = state.getPositions()"
   ]
  },
  {
   "cell_type": "code",
   "execution_count": null,
   "id": "f81f0c90-064e-4c1b-939c-6a44214b4adb",
   "metadata": {},
   "outputs": [],
   "source": [
    "a_vec, b_vec, c_vec = state.getPeriodicBoxVectors()\n",
    "a_norm, b_norm, c_norm = np.linalg.norm(a_vec), np.linalg.norm(b_vec), np.linalg.norm(c_vec)\n",
    "psf.setBox(a_norm, b_norm, c_norm)"
   ]
  },
  {
   "cell_type": "code",
   "execution_count": 4,
   "id": "89c84e26-4fba-4a4d-8965-2a8c574417d2",
   "metadata": {},
   "outputs": [],
   "source": [
    "system = psf.createSystem(params, nonbondedMethod=app.LJPME, nonbondedCutoff=1.0 * unit.nanometer, constraints = app.HBonds)"
   ]
  },
  {
   "cell_type": "code",
   "execution_count": 5,
   "id": "bfab7acc",
   "metadata": {},
   "outputs": [
    {
     "data": {
      "text/plain": [
       "118294"
      ]
     },
     "execution_count": 5,
     "metadata": {},
     "output_type": "execute_result"
    }
   ],
   "source": [
    "n1_atom = psf.topology.getNumAtoms()\n",
    "n1_atom"
   ]
  },
  {
   "cell_type": "code",
   "execution_count": null,
   "id": "01073f29-ef5b-4a70-8e8e-fdaff665349d",
   "metadata": {},
   "outputs": [],
   "source": [
    "protein_restraint = mm.CustomExternalForce('k_2*periodicdistance(x, y, z, x0, y0, z0)^2')\n",
    "\n",
    "protein_restraint.addGlobalParameter('k_2', 5*unit.kilocalories_per_mole/unit.angstrom**2)\n",
    "protein_restraint.addPerParticleParameter('x0')\n",
    "protein_restraint.addPerParticleParameter('y0')\n",
    "protein_restraint.addPerParticleParameter('z0')\n",
    "system.addForce(protein_restraint)"
   ]
  },
  {
   "cell_type": "code",
   "execution_count": null,
   "id": "fc6d3797-fe95-4c01-b8fa-92b20f7e9df8",
   "metadata": {},
   "outputs": [],
   "source": [
    "#standard aminoacid residues in proteins (to apply the specific restraint to the protein)\n",
    "std_amino_acids = ['GLY', 'TYR', 'PHE', 'ARG', 'HIS', 'ALA', 'PRO', 'GLU', 'SER', 'LYS',\n",
    "    'THR', 'MET', 'CYS', 'LEU', 'GLN', 'ASN', 'VAL', 'ILE', 'ASP', 'TRP']\n",
    "\n",
    "for residue in psf.topology.residues():\n",
    "    if residue.name in std_amino_acids:\n",
    "        for atom in residue.atoms():\n",
    "            if atom.element.symbol != 'H':\n",
    "                pos = centered_positions[atom.index] #change made here from centered positions\n",
    "                protein_restraint.addParticle(atom.index, [pos[0], pos[1], pos[2]])\n",
    "\n"
   ]
  },
  {
   "cell_type": "code",
   "execution_count": null,
   "id": "969b4c0f-9d9c-444f-b610-42cdb03bd727",
   "metadata": {},
   "outputs": [],
   "source": [
    "restraint = mm.CustomExternalForce('k_1*periodicdistance(x, y, z, x0, y0, z0)^2')\n",
    "\n",
    "restraint.addGlobalParameter('k_1', 5*unit.kilocalories_per_mole/unit.angstrom**2)\n",
    "restraint.addPerParticleParameter('x0')\n",
    "restraint.addPerParticleParameter('y0')\n",
    "restraint.addPerParticleParameter('z0')\n",
    "system.addForce(restraint)"
   ]
  },
  {
   "cell_type": "code",
   "execution_count": null,
   "id": "31f1dabf-5ce6-4c83-9dc9-8cabc166c36e",
   "metadata": {},
   "outputs": [],
   "source": [
    "for residue in psf.topology.residues():\n",
    "    if residue.name == 'POPC':\n",
    "        for atom in residue.atoms():\n",
    "            if atom.element.symbol != 'H':\n",
    "                pos = centered_positions[atom.index] #change made here from centered positions\n",
    "                restraint.addParticle(atom.index, [pos[0], pos[1], pos[2]])"
   ]
  },
  {
   "cell_type": "code",
   "execution_count": null,
   "id": "0d084aef-af58-4993-892a-02af0c2c8438",
   "metadata": {},
   "outputs": [],
   "source": [
    "mem_potential = mm.CustomExternalForce(\"q*Ez*(z - z0)\")\n",
    "mem_potential.addGlobalParameter('Ez', 0.05 * unit.volt / unit.nanometer)\n",
    "mem_potential.addPerParticleParameter('q')\n",
    "mem_potential.addPerParticleParameter('z0')\n",
    "system.addForce(mem_potential)"
   ]
  },
  {
   "cell_type": "code",
   "execution_count": null,
   "id": "4e5cd421-e772-4ce5-a71e-6e996e6645bc",
   "metadata": {},
   "outputs": [],
   "source": [
    "def find_nonbonded(system):\n",
    "    for f in system.getForces():\n",
    "        if isinstance(f, mm.NonbondedForce):\n",
    "            return f\n",
    "\n",
    "nb_force = find_nonbonded(system)"
   ]
  },
  {
   "cell_type": "code",
   "execution_count": null,
   "id": "519aa877-bf92-45b1-b9de-82491a7d6329",
   "metadata": {},
   "outputs": [],
   "source": [
    "for residue in psf.topology.residues():\n",
    "    if residue.name in ['CAL', 'SOD', 'CLA']:\n",
    "        for atom in residue.atoms():\n",
    "            q,_,_ = nb_force.getParticleParameters(atom.index)\n",
    "            mem_potential.addParticle(atom.index, [q, pos[2]])"
   ]
  },
  {
   "cell_type": "code",
   "execution_count": 6,
   "id": "1fc1f1c9-4f0d-438d-b967-fbb00f29baff",
   "metadata": {},
   "outputs": [],
   "source": [
    "integrator_re = mm.LangevinIntegrator(300*unit.kelvin, 1.0/unit.picoseconds, 1.0*unit.femtoseconds)"
   ]
  },
  {
   "cell_type": "code",
   "execution_count": 7,
   "id": "7593a562-e3a5-4d08-b6a1-d3da30f8b0e9",
   "metadata": {},
   "outputs": [],
   "source": [
    "platform = mm.Platform.getPlatformByName('CUDA')\n",
    "# #to run the simulation on several GPU's parallelly\n",
    "properties  = {'CudaDeviceIndex': '0,1,2', 'CudaPrecision': 'mixed'}"
   ]
  },
  {
   "cell_type": "code",
   "execution_count": 8,
   "id": "c9b6a097-d6d1-420b-a7b1-b706b09b147b",
   "metadata": {},
   "outputs": [],
   "source": [
    "simulation_re = app.Simulation(psf.topology, system, integrator_re, platform, properties)\n",
    "simulation_re.loadState('/scratch/htc/fsafarov/states/trpv1/7rqz/minimization_7lpe.xml')\n"
   ]
  },
  {
   "cell_type": "code",
   "execution_count": 9,
   "id": "1c1561a5-720b-4167-8cb3-ea9f1d0887a8",
   "metadata": {},
   "outputs": [
    {
     "data": {
      "text/plain": [
       "11"
      ]
     },
     "execution_count": 9,
     "metadata": {},
     "output_type": "execute_result"
    }
   ],
   "source": [
    "system.addForce(mm.MonteCarloBarostat(1.0*unit.atmosphere, 300*unit.kelvin, 100))"
   ]
  },
  {
   "cell_type": "code",
   "execution_count": 10,
   "id": "251c7fc8-7ba2-47cc-88f7-9619eb09e95b",
   "metadata": {},
   "outputs": [],
   "source": [
    "state_1 = simulation_re.context.getState(getVelocities=True)\n",
    "velocities = state_1.getVelocities(asNumpy = True)"
   ]
  },
  {
   "cell_type": "code",
   "execution_count": 11,
   "id": "eb68fa83-f2c0-4fea-9a66-aa4c06668abe",
   "metadata": {},
   "outputs": [
    {
     "data": {
      "text/plain": [
       "{'k_1': 0.0, 'k_2': 0.0}"
      ]
     },
     "execution_count": 11,
     "metadata": {},
     "output_type": "execute_result"
    }
   ],
   "source": [
    "dict(simulation_re.context.getParameters()) #check the parameters!!!"
   ]
  },
  {
   "cell_type": "code",
   "execution_count": 12,
   "id": "8c5458af-4e7f-45d3-8877-e3ac8c39b995",
   "metadata": {},
   "outputs": [],
   "source": [
    "simulation_re.context.setParameter('k_2', 1.0*unit.kilocalories_per_mole/unit.angstrom**2)\n",
    "simulation_re.context.setParameter('k_1', 1.0*unit.kilocalories_per_mole/unit.angstrom**2)"
   ]
  },
  {
   "cell_type": "code",
   "execution_count": 13,
   "id": "a0d38ee0-1684-4c08-af21-feda275e30a4",
   "metadata": {},
   "outputs": [],
   "source": [
    "simulation_re.context.reinitialize(preserveState=True)\n",
    "simulation_re.context.setVelocities(velocities)\n",
    "simulation_re.context.setPositions(centered_positions)"
   ]
  },
  {
   "cell_type": "code",
   "execution_count": 14,
   "id": "4415be3f-97f5-428b-9261-4cf2daf6b749",
   "metadata": {},
   "outputs": [
    {
     "data": {
      "text/plain": [
       "{'MonteCarloPressure': 1.01325,\n",
       " 'MonteCarloTemperature': 300.0,\n",
       " 'k_1': 418.40000000000003,\n",
       " 'k_2': 418.40000000000003}"
      ]
     },
     "execution_count": 14,
     "metadata": {},
     "output_type": "execute_result"
    }
   ],
   "source": [
    "print(dict(simulation_re.context.getParameters())) #check the parameters!!!"
   ]
  },
  {
   "cell_type": "code",
   "execution_count": 15,
   "id": "49fb1c54-ffad-497b-8b86-a557304b34b6",
   "metadata": {},
   "outputs": [
    {
     "data": {
      "text/plain": [
       "(50287, 2498.3152781685835)"
      ]
     },
     "execution_count": 15,
     "metadata": {},
     "output_type": "execute_result"
    }
   ],
   "source": [
    "state_1 = simulation_re.context.getState(getForces=True)\n",
    "forces = state_1.getForces(asNumpy = True).value_in_unit(unit.kilojoule/unit.nanometer/unit.mole)\n",
    "norm = np.linalg.norm(forces, axis = 1)\n",
    "max_force = max(norm)\n",
    "np.argmax(norm), np.max(norm)"
   ]
  },
  {
   "cell_type": "code",
   "execution_count": 16,
   "id": "7f3795f8-7368-4324-9d0f-e513257bf408",
   "metadata": {},
   "outputs": [],
   "source": [
    "simulation_re.reporters.append(app.DCDReporter('/scratch/htc/fsafarov/traj/traj_trp/mor_amber_protocol_2/7rqz/step6_relax.dcd', 1000, enforcePeriodicBox=True))\n",
    "simulation_re.reporters.append(app.CheckpointReporter('/scratch/htc/fsafarov/traj/traj_trp/mor_amber_protocol_2/7rqz/step6.chk', 1000))\n",
    "simulation_re.step(5000)\n"
   ]
  },
  {
   "cell_type": "code",
   "execution_count": 17,
   "id": "b057a735-e017-40ad-8bc1-9f9cdd365380",
   "metadata": {},
   "outputs": [],
   "source": [
    "simulation_re.saveState('/scratch/htc/fsafarov/states/trpv1/7rqz/relaxation.xml')"
   ]
  },
  {
   "cell_type": "code",
   "execution_count": 18,
   "id": "1af330f4-29c8-43fc-9b82-538579ce466e",
   "metadata": {},
   "outputs": [],
   "source": [
    "with open('/scratch/htc/fsafarov/states/trpv1/7rqz/relaxed_system.xml', 'w') as f:\n",
    "    f.write(mm.XmlSerializer.serialize(system))"
   ]
  },
  {
   "cell_type": "code",
   "execution_count": null,
   "id": "daf7dd9e-7247-4cd4-889c-8a6e3f7955d9",
   "metadata": {},
   "outputs": [],
   "source": []
  }
 ],
 "metadata": {
  "kernelspec": {
   "display_name": "OpenMM (CUDA2)",
   "language": "python",
   "name": "openmm_ff"
  },
  "language_info": {
   "codemirror_mode": {
    "name": "ipython",
    "version": 3
   },
   "file_extension": ".py",
   "mimetype": "text/x-python",
   "name": "python",
   "nbconvert_exporter": "python",
   "pygments_lexer": "ipython3",
   "version": "3.12.2"
  }
 },
 "nbformat": 4,
 "nbformat_minor": 5
}
