{
 "cells": [
  {
   "cell_type": "code",
   "execution_count": 1,
   "id": "c2a99847",
   "metadata": {},
   "outputs": [],
   "source": [
    "import openmm as mm\n",
    "import numpy as np\n",
    "import openmm.app as app\n",
    "import simtk.unit as unit\n",
    "from openmmforcefields.generators import GAFFTemplateGenerator as gen\n",
    "from openff.toolkit import Topology\n",
    "import pytraj as pt\n",
    "import os\n",
    "import matplotlib.pyplot as plt\n",
    "\n",
    "from openmm.app import CharmmPsfFile, CharmmCrdFile, CharmmParameterSet\n",
    "\n"
   ]
  },
  {
   "cell_type": "code",
   "execution_count": 2,
   "id": "bd12dcdd",
   "metadata": {},
   "outputs": [
    {
     "name": "stderr",
     "output_type": "stream",
     "text": [
      "/scratch/htc/fsafarov/openmm_ff/lib/python3.12/site-packages/openmm/app/charmmparameterset.py:391: UserWarning: Replacing dihedral <DihedralType: k=0.27; phase=180.0; per=2> with <DihedralType: k=0.03; phase=180.0; per=2>\n",
      "  warnings.warn('Replacing dihedral %r with %r' %\n",
      "/scratch/htc/fsafarov/openmm_ff/lib/python3.12/site-packages/openmm/app/charmmparameterset.py:391: UserWarning: Replacing dihedral <DihedralType: k=0.0; phase=0.0; per=3> with <DihedralType: k=0.12; phase=0.0; per=3>\n",
      "  warnings.warn('Replacing dihedral %r with %r' %\n"
     ]
    }
   ],
   "source": [
    "base = '/scratch/htc/fsafarov/structures/7rqz_sep_2025/7qrz'\n",
    "\n",
    "#We use psf and crd system because pdb files does not support the 6-digit base system for ATOM ID's, which is in our case utilized for POPC. \n",
    "#Input below is from psf and crd from CHARMM-GUI.\n",
    "exit\n",
    "psf = CharmmPsfFile(os.path.join(base, 'step5_assembly.psf'))\n",
    "crd = CharmmCrdFile(os.path.join(base, 'step5_assembly.crd'))\n",
    "\n",
    "#Input all the parameters from toppar folder of CHARMM-GUI output for all the components of psf and crd.\n",
    "\n",
    "params = CharmmParameterSet(\n",
    "    os.path.join(base, 'toppar/top_all36_prot.rtf'),\n",
    "    os.path.join(base, 'toppar/par_all36m_prot.prm'),\n",
    "    os.path.join(base, 'toppar/top_all36_na.rtf'),\n",
    "    os.path.join(base, 'toppar/par_all36_na.prm'),\n",
    "    os.path.join(base, 'toppar/top_all36_carb.rtf'),\n",
    "    os.path.join(base, 'toppar/par_all36_carb.prm'),\n",
    "    os.path.join(base, 'toppar/top_all36_lipid.rtf'),\n",
    "    os.path.join(base, 'toppar/par_all36_lipid.prm'),\n",
    "    os.path.join(base, 'toppar/top_all36_cgenff.rtf'),\n",
    "    os.path.join(base, 'toppar/par_all36_cgenff.prm'),\n",
    "    os.path.join(base, 'toppar/toppar_all36_moreions.str'),\n",
    "    os.path.join(base, 'toppar/top_interface.rtf'),\n",
    "    os.path.join(base, 'toppar/par_interface.prm'),\n",
    "    os.path.join(base, 'toppar/toppar_all36_nano_lig.str'),\n",
    "    os.path.join(base, 'toppar/toppar_all36_nano_lig_patch.str'),\n",
    "    os.path.join(base, 'toppar/toppar_all36_synthetic_polymer.str'),\n",
    "    os.path.join(base, 'toppar/toppar_all36_synthetic_polymer_patch.str'),\n",
    "    os.path.join(base, 'toppar/toppar_all36_polymer_solvent.str'),\n",
    "    os.path.join(base, 'toppar/toppar_water_ions.str'),\n",
    "    os.path.join(base, 'toppar/toppar_dum_noble_gases.str'),\n",
    "    os.path.join(base, 'toppar/toppar_ions_won.str'),\n",
    "    os.path.join(base, 'toppar/cam.str'),\n",
    "    os.path.join(base, 'toppar/toppar_all36_prot_arg0.str'),\n",
    "    os.path.join(base, 'toppar/toppar_all36_prot_c36m_d_aminoacids.str'),\n",
    "    os.path.join(base, 'toppar/toppar_all36_prot_fluoro_alkanes.str'),\n",
    "    os.path.join(base, 'toppar/toppar_all36_prot_heme.str'),\n",
    "    os.path.join(base, 'toppar/toppar_all36_prot_na_combined.str'),\n",
    "    os.path.join(base, 'toppar/toppar_all36_prot_retinol.str'),\n",
    "    os.path.join(base, 'toppar/toppar_all36_prot_model.str'),\n",
    "    os.path.join(base, 'toppar/toppar_all36_prot_modify_res.str'),\n",
    "    os.path.join(base, 'toppar/toppar_all36_na_nad_ppi.str'),\n",
    "    os.path.join(base, 'toppar/toppar_all36_na_rna_modified.str'),\n",
    "    os.path.join(base, 'toppar/toppar_all36_lipid_sphingo.str'),\n",
    "    os.path.join(base, 'toppar/toppar_all36_lipid_archaeal.str'),\n",
    "    os.path.join(base, 'toppar/toppar_all36_lipid_bacterial.str'),\n",
    "    os.path.join(base, 'toppar/toppar_all36_lipid_cardiolipin.str'),\n",
    "    os.path.join(base, 'toppar/toppar_all36_lipid_cholesterol.str'),\n",
    "    os.path.join(base, 'toppar/toppar_all36_lipid_dag.str'),\n",
    "    os.path.join(base, 'toppar/toppar_all36_lipid_inositol.str'),\n",
    "    os.path.join(base, 'toppar/toppar_all36_lipid_lnp.str'),\n",
    "    os.path.join(base, 'toppar/toppar_all36_lipid_lps.str'),\n",
    "    os.path.join(base, 'toppar/toppar_all36_lipid_mycobacterial.str'),\n",
    "    os.path.join(base, 'toppar/toppar_all36_lipid_miscellaneous.str'),\n",
    "    os.path.join(base, 'toppar/toppar_all36_lipid_model.str'),\n",
    "    os.path.join(base, 'toppar/toppar_all36_lipid_prot.str'),\n",
    "    os.path.join(base, 'toppar/toppar_all36_lipid_tag.str'),\n",
    "    os.path.join(base, 'toppar/toppar_all36_lipid_yeast.str'),\n",
    "    os.path.join(base, 'toppar/toppar_all36_lipid_hmmm.str'),\n",
    "    os.path.join(base, 'toppar/toppar_all36_lipid_detergent.str'),\n",
    "    os.path.join(base, 'toppar/toppar_all36_lipid_ether.str'),\n",
    "    os.path.join(base, 'toppar/toppar_all36_lipid_oxidized.str'),\n",
    "    os.path.join(base, 'toppar/toppar_all36_carb_glycolipid.str'),\n",
    "    os.path.join(base, 'toppar/toppar_all36_carb_glycopeptide.str'),\n",
    "    os.path.join(base, 'toppar/toppar_all36_carb_imlab.str'),\n",
    "    os.path.join(base, 'toppar/toppar_all36_label_spin.str'),\n",
    "    os.path.join(base, 'toppar/toppar_all36_label_fluorophore.str'),\n",
    "    os.path.join(base, '6eu/6eu.rtf'),\n",
    "    os.path.join(base, '6eu/6eu.prm')\n",
    ")"
   ]
  },
  {
   "cell_type": "code",
   "execution_count": 3,
   "id": "eca43df1",
   "metadata": {},
   "outputs": [],
   "source": [
    "psf.setBox(125.114579*unit.angstroms, 125.114579*unit.angstroms, 148.980063*unit.angstrom)\n",
    "#Set up a box"
   ]
  },
  {
   "cell_type": "code",
   "execution_count": 4,
   "id": "bfab7acc",
   "metadata": {},
   "outputs": [
    {
     "data": {
      "text/plain": [
       "118294"
      ]
     },
     "execution_count": 4,
     "metadata": {},
     "output_type": "execute_result"
    }
   ],
   "source": [
    "n1_atom = psf.topology.getNumAtoms()\n",
    "n1_atom"
   ]
  },
  {
   "cell_type": "code",
   "execution_count": 5,
   "id": "15f73c59",
   "metadata": {},
   "outputs": [],
   "source": [
    "system = psf.createSystem(params, nonbondedMethod=app.LJPME, nonbondedCutoff=1.0 * unit.nanometer)\n",
    "#constraints = app.HBonds::We constraint the Hydrogen bonds so that they won\\t stretch during the simulation"
   ]
  },
  {
   "cell_type": "code",
   "execution_count": 6,
   "id": "fe159b7d-c2fc-46bf-9ac3-b75b131b9b91",
   "metadata": {},
   "outputs": [],
   "source": [
    "# Centering the solute within the periodic box before running the simulation\n",
    "# This step is not strictly required for the simulation to run correctly,\n",
    "# but without it, the periodic box may appear misaligned with the structure,\n",
    "# causing the protein (or membrane) to drift outside the visible box in trajectory files.\n",
    "# Centering improves visualization and helps ensure proper PBC wrapping in trajectory output.\n",
    "positions_check = crd.positions\n",
    "center = np.mean(positions_check.value_in_unit(unit.nanometer), axis=0)\n",
    "box = psf.topology.getUnitCellDimensions().value_in_unit(unit.nanometer)\n",
    "box_center = np.array(box) / 2.0\n",
    "translation = box_center - center\n",
    "centered_positions = positions_check + translation * unit.nanometer\n",
    "centered_positions = centered_positions.value_in_unit(unit.nanometer)"
   ]
  },
  {
   "cell_type": "code",
   "execution_count": 7,
   "id": "23896848-64cd-4bc4-a192-b4e235d0e651",
   "metadata": {},
   "outputs": [
    {
     "data": {
      "text/plain": [
       "9"
      ]
     },
     "execution_count": 7,
     "metadata": {},
     "output_type": "execute_result"
    }
   ],
   "source": [
    "protein_restraint = mm.CustomExternalForce('k_2*periodicdistance(x, y, z, x0, y0, z0)^2')\n",
    "\n",
    "protein_restraint.addGlobalParameter('k_2', 5*unit.kilocalories_per_mole/unit.angstrom**2)\n",
    "protein_restraint.addPerParticleParameter('x0')\n",
    "protein_restraint.addPerParticleParameter('y0')\n",
    "protein_restraint.addPerParticleParameter('z0')\n",
    "system.addForce(protein_restraint)"
   ]
  },
  {
   "cell_type": "code",
   "execution_count": 8,
   "id": "3baa6d8a-0b29-441a-b7e1-9482430c5341",
   "metadata": {},
   "outputs": [],
   "source": [
    "#standard aminoacid residues in proteins (to apply the specific restraint to the protein)\n",
    "std_amino_acids = ['GLY', 'TYR', 'PHE', 'ARG', 'HIS', 'ALA', 'PRO', 'GLU', 'SER', 'LYS',\n",
    "    'THR', 'MET', 'CYS', 'LEU', 'GLN', 'ASN', 'VAL', 'ILE', 'ASP', 'TRP']\n",
    "\n",
    "for residue in psf.topology.residues():\n",
    "    if residue.name in std_amino_acids:\n",
    "        for atom in residue.atoms():\n",
    "            if atom.element.symbol != 'H':\n",
    "                pos = centered_positions[atom.index] #change made here from centered positions\n",
    "                protein_restraint.addParticle(atom.index, [pos[0], pos[1], pos[2]])\n",
    "\n"
   ]
  },
  {
   "cell_type": "code",
   "execution_count": 9,
   "id": "2d0afdb6-8560-457e-8409-52f4f045d51a",
   "metadata": {},
   "outputs": [
    {
     "data": {
      "text/plain": [
       "10"
      ]
     },
     "execution_count": 9,
     "metadata": {},
     "output_type": "execute_result"
    }
   ],
   "source": [
    "restraint = mm.CustomExternalForce('k_1*periodicdistance(x, y, z, x0, y0, z0)^2')\n",
    "\n",
    "restraint.addGlobalParameter('k_1', 5*unit.kilocalories_per_mole/unit.angstrom**2)\n",
    "restraint.addPerParticleParameter('x0')\n",
    "restraint.addPerParticleParameter('y0')\n",
    "restraint.addPerParticleParameter('z0')\n",
    "system.addForce(restraint)"
   ]
  },
  {
   "cell_type": "code",
   "execution_count": 10,
   "id": "2c160291-1655-43c5-8888-ad3d59fe55f3",
   "metadata": {},
   "outputs": [],
   "source": [
    "for residue in psf.topology.residues():\n",
    "    if residue.name == 'POPC':\n",
    "        for atom in residue.atoms():\n",
    "            if atom.element.symbol != 'H':\n",
    "                pos = centered_positions[atom.index] #change made here from centered positions\n",
    "                restraint.addParticle(atom.index, [pos[0], pos[1], pos[2]])"
   ]
  },
  {
   "cell_type": "code",
   "execution_count": null,
   "id": "c92e628a-34e9-41e3-a81c-b11c2aeed6c4",
   "metadata": {},
   "outputs": [],
   "source": [
    "mem_potential = mm.CustomExternalForce(\"q*Ez*(z - z0)\")\n",
    "mem_potential.addGlobalParameter('Ez', 0.05 * unit.volt / unit.nanometer)\n",
    "mem_potential.addPerParticleParameter('q')\n",
    "mem_potential.addPerParticleParameter('z0')\n",
    "system.addForce(mem_potential)"
   ]
  },
  {
   "cell_type": "code",
   "execution_count": null,
   "id": "18704874-d4e4-42bc-9b9e-79857e2adcfc",
   "metadata": {},
   "outputs": [],
   "source": [
    "def find_nonbonded(system):\n",
    "    for f in system.getForces():\n",
    "        if isinstance(f, mm.NonbondedForce):\n",
    "            return f\n",
    "\n",
    "nb_force = find_nonbonded(system)"
   ]
  },
  {
   "cell_type": "code",
   "execution_count": null,
   "id": "5fd7f4aa-714c-4b93-802d-375a0c375282",
   "metadata": {},
   "outputs": [],
   "source": [
    "for residue in psf.topology.residues():\n",
    "    if residue.name in ['CAL', 'SOD', 'CLA']:\n",
    "        for atom in residue.atoms():\n",
    "            q,_,_ = nb_force.getParticleParameters(atom.index)\n",
    "            mem_potential.addParticle(atom.index, [q, pos[2]])"
   ]
  },
  {
   "cell_type": "code",
   "execution_count": 11,
   "id": "1fc1f1c9-4f0d-438d-b967-fbb00f29baff",
   "metadata": {},
   "outputs": [],
   "source": [
    "integrator_eq = mm.LangevinIntegrator(300*unit.kelvin, 0.5/unit.picoseconds, 1.0*unit.femtoseconds)"
   ]
  },
  {
   "cell_type": "code",
   "execution_count": 12,
   "id": "7593a562-e3a5-4d08-b6a1-d3da30f8b0e9",
   "metadata": {},
   "outputs": [],
   "source": [
    "platform = mm.Platform.getPlatformByName('CUDA')\n",
    "#to run the simulation on several GPU's parallelly\n",
    "properties  = {'CudaDeviceIndex': '0,1,2', 'CudaPrecision': 'mixed'}"
   ]
  },
  {
   "cell_type": "code",
   "execution_count": 13,
   "id": "e465e2df-3bf8-40b4-b33e-be379d35a122",
   "metadata": {
    "scrolled": true
   },
   "outputs": [],
   "source": [
    "simulation_eq = app.Simulation(psf.topology, system, integrator_eq, platform, properties)\n",
    "simulation_eq.context.setPositions(centered_positions)\n",
    "box_vectors = psf.topology.getPeriodicBoxVectors()\n",
    "simulation_eq.context.setPeriodicBoxVectors(*box_vectors)"
   ]
  },
  {
   "cell_type": "code",
   "execution_count": 14,
   "id": "6940fce2-6e6a-4770-8f23-b981039184c6",
   "metadata": {
    "jupyter": {
     "source_hidden": true
    }
   },
   "outputs": [],
   "source": [
    "# simulation_eq = app.Simulation(psf.topology, system, integrator_eq)\n",
    "# simulation_eq.context.setPositions(centered_positions)\n",
    "# box_vectors = psf.topology.getPeriodicBoxVectors()\n",
    "# simulation_eq.context.setPeriodicBoxVectors(*box_vectors)"
   ]
  },
  {
   "cell_type": "code",
   "execution_count": 15,
   "id": "42a99334-19c1-4bcd-8705-40431e554f51",
   "metadata": {},
   "outputs": [],
   "source": [
    "simulation_eq.context.setVelocitiesToTemperature(300*unit.kelvin)"
   ]
  },
  {
   "cell_type": "code",
   "execution_count": 16,
   "id": "49fb1c54-ffad-497b-8b86-a557304b34b6",
   "metadata": {},
   "outputs": [
    {
     "data": {
      "text/plain": [
       "(5097, 6002.825728124682)"
      ]
     },
     "execution_count": 16,
     "metadata": {},
     "output_type": "execute_result"
    }
   ],
   "source": [
    "state_1 = simulation_eq.context.getState(getForces=True)\n",
    "forces = state_1.getForces(asNumpy = True).value_in_unit(unit.kilojoule/unit.nanometer/unit.mole)\n",
    "norm = np.linalg.norm(forces, axis = 1)\n",
    "max_force = max(norm)\n",
    "np.argmax(norm), np.max(norm)"
   ]
  },
  {
   "cell_type": "code",
   "execution_count": 17,
   "id": "c4d70231-237b-4a1f-8d7d-a88d219c6d62",
   "metadata": {},
   "outputs": [
    {
     "name": "stdout",
     "output_type": "stream",
     "text": [
      "Potential energy before minimization: -1154444.768587836 kJ/mol\n",
      "Kinetic energy before minimization: 343973.39077577635 kJ/mol\n",
      "Potential energy after minimization: -1389952.948275336 kJ/mol\n",
      "Kinetic energy after minimization: 343973.39077577635 kJ/mol\n"
     ]
    }
   ],
   "source": [
    "state_2 = simulation_eq.context.getState(getEnergy=True)\n",
    "print(\"Potential energy before minimization:\", state_2.getPotentialEnergy())\n",
    "print(\"Kinetic energy before minimization:\", state_2.getKineticEnergy())\n",
    "simulation_eq.minimizeEnergy(maxIterations = 1000)\n",
    "#default number of iterations is unlimited. maxiterations = 0 mean unlimited.\n",
    "\n",
    "# After minimization\n",
    "state = simulation_eq.context.getState(getEnergy=True)\n",
    "print(\"Potential energy after minimization:\", state.getPotentialEnergy())\n",
    "print(\"Kinetic energy after minimization:\", state.getKineticEnergy())"
   ]
  },
  {
   "cell_type": "code",
   "execution_count": 18,
   "id": "123f8a2f-55b1-48fe-8876-4b0baf688650",
   "metadata": {},
   "outputs": [
    {
     "data": {
      "text/plain": [
       "(40921, 2929.5806625983014)"
      ]
     },
     "execution_count": 18,
     "metadata": {},
     "output_type": "execute_result"
    }
   ],
   "source": [
    "state_2 = simulation_eq.context.getState(getForces=True)\n",
    "forces = state_2.getForces(asNumpy = True).value_in_unit(unit.kilojoule/unit.nanometer/unit.mole)\n",
    "norm = np.linalg.norm(forces, axis = 1)\n",
    "max_force = max(norm)\n",
    "np.argmax(norm), np.max(norm)"
   ]
  },
  {
   "cell_type": "code",
   "execution_count": 19,
   "id": "7f3795f8-7368-4324-9d0f-e513257bf408",
   "metadata": {},
   "outputs": [],
   "source": [
    "#STEP 2\n",
    "\n",
    "simulation_eq.reporters.append(app.DCDReporter('/scratch/htc/fsafarov/traj/traj_trp/mor_amber_protocol_2/7rqz/step1_min.dcd', 1000, enforcePeriodicBox=True))\n",
    "simulation_eq.reporters.append(app.CheckpointReporter('/scratch/htc/fsafarov/traj/traj_trp/mor_amber_protocol_2/7rqz/step1_min.chk', 1000))\n",
    "simulation_eq.step(15000)\n"
   ]
  },
  {
   "cell_type": "code",
   "execution_count": 20,
   "id": "83d828f3-0967-4063-96df-ea793d305840",
   "metadata": {},
   "outputs": [],
   "source": [
    "#STEP 3\n",
    "\n",
    "simulation_eq.context.setParameter('k_1', 2.0*unit.kilocalories_per_mole/unit.angstrom**2)\n",
    "simulation_eq.context.setParameter('k_2', 2.0*unit.kilocalories_per_mole/unit.angstrom**2)"
   ]
  },
  {
   "cell_type": "code",
   "execution_count": 21,
   "id": "620666b7-cf87-4314-8be4-27945b58f914",
   "metadata": {},
   "outputs": [],
   "source": [
    "simulation_eq.context.reinitialize(preserveState=True)"
   ]
  },
  {
   "cell_type": "code",
   "execution_count": 22,
   "id": "5a965d2c-7205-4cc7-a1b0-4a8690d3c8df",
   "metadata": {},
   "outputs": [
    {
     "name": "stdout",
     "output_type": "stream",
     "text": [
      "Potential energy before minimization: -1038694.3467128361 kJ/mol\n",
      "Kinetic energy before minimization: 343788.5268936135 kJ/mol\n",
      "Potential energy after minimization: -1435927.112337836 kJ/mol\n",
      "Kinetic energy after minimization: 343788.5268936135 kJ/mol\n"
     ]
    }
   ],
   "source": [
    "state = simulation_eq.context.getState(getEnergy=True)\n",
    "print(\"Potential energy before minimization:\", state.getPotentialEnergy())\n",
    "print(\"Kinetic energy before minimization:\", state.getKineticEnergy())\n",
    "simulation_eq.minimizeEnergy(maxIterations = 1000)\n",
    "#default number of iterations is unlimited. maxiterations = 0 mean unlimited.\n",
    "\n",
    "# After minimization\n",
    "state = simulation_eq.context.getState(getEnergy=True)\n",
    "print(\"Potential energy after minimization:\", state.getPotentialEnergy())\n",
    "print(\"Kinetic energy after minimization:\", state.getKineticEnergy())"
   ]
  },
  {
   "cell_type": "code",
   "execution_count": 23,
   "id": "14aaedd8-e6f0-4ed3-bcc4-dc65016e92b4",
   "metadata": {},
   "outputs": [],
   "source": [
    "#STEP 4\n",
    "\n",
    "simulation_eq.context.setParameter('k_1', 0.1*unit.kilocalories_per_mole/unit.angstrom**2)\n",
    "simulation_eq.context.setParameter('k_2', 0.1*unit.kilocalories_per_mole/unit.angstrom**2)"
   ]
  },
  {
   "cell_type": "code",
   "execution_count": 24,
   "id": "6d73fd3c-c8c2-4032-8bc4-016c82e541cc",
   "metadata": {},
   "outputs": [],
   "source": [
    "simulation_eq.context.reinitialize(preserveState=True)"
   ]
  },
  {
   "cell_type": "code",
   "execution_count": 25,
   "id": "5a54c1b3-7479-4b83-a930-58ca1370919d",
   "metadata": {},
   "outputs": [
    {
     "name": "stdout",
     "output_type": "stream",
     "text": [
      "Potential energy before minimization: -1449349.198275336 kJ/mol\n",
      "Kinetic energy before minimization: 343788.5268936135 kJ/mol\n",
      "Potential energy after minimization: -1477295.885775336 kJ/mol\n",
      "Kinetic energy after minimization: 343788.5268936135 kJ/mol\n"
     ]
    }
   ],
   "source": [
    "state = simulation_eq.context.getState(getEnergy=True)\n",
    "print(\"Potential energy before minimization:\", state.getPotentialEnergy())\n",
    "print(\"Kinetic energy before minimization:\", state.getKineticEnergy())\n",
    "simulation_eq.minimizeEnergy(maxIterations = 1000)\n",
    "#default number of iterations is unlimited. maxiterations = 0 mean unlimited.\n",
    "\n",
    "# After minimization\n",
    "state = simulation_eq.context.getState(getEnergy=True)\n",
    "print(\"Potential energy after minimization:\", state.getPotentialEnergy())\n",
    "print(\"Kinetic energy after minimization:\", state.getKineticEnergy())"
   ]
  },
  {
   "cell_type": "code",
   "execution_count": 26,
   "id": "d8bbf494-d930-4c7f-903f-917c0c20ffd2",
   "metadata": {},
   "outputs": [],
   "source": [
    "#STEP 5\n",
    "\n",
    "simulation_eq.context.setParameter('k_1', 0.0*unit.kilocalories_per_mole/unit.angstrom**2)\n",
    "simulation_eq.context.setParameter('k_2', 0.0*unit.kilocalories_per_mole/unit.angstrom**2)"
   ]
  },
  {
   "cell_type": "code",
   "execution_count": 27,
   "id": "57f94201-0e7b-4efe-92dc-9fc0ccfdcb79",
   "metadata": {},
   "outputs": [],
   "source": [
    "simulation_eq.context.reinitialize(preserveState=True)"
   ]
  },
  {
   "cell_type": "code",
   "execution_count": 28,
   "id": "f8184382-62d1-4b92-b2d4-bd3321865eba",
   "metadata": {},
   "outputs": [
    {
     "name": "stdout",
     "output_type": "stream",
     "text": [
      "Potential energy before minimization: -1481481.987337836 kJ/mol\n",
      "Kinetic energy before minimization: 343788.5268936135 kJ/mol\n",
      "Potential energy after minimization: -1481581.893587836 kJ/mol\n",
      "Kinetic energy after minimization: 343788.5268936135 kJ/mol\n"
     ]
    }
   ],
   "source": [
    "state = simulation_eq.context.getState(getEnergy=True)\n",
    "print(\"Potential energy before minimization:\", state.getPotentialEnergy())\n",
    "print(\"Kinetic energy before minimization:\", state.getKineticEnergy())\n",
    "simulation_eq.minimizeEnergy(maxIterations = 1000)\n",
    "#default number of iterations is unlimited. maxiterations = 0 mean unlimited.\n",
    "\n",
    "# After minimization\n",
    "state = simulation_eq.context.getState(getEnergy=True)\n",
    "print(\"Potential energy after minimization:\", state.getPotentialEnergy())\n",
    "print(\"Kinetic energy after minimization:\", state.getKineticEnergy())"
   ]
  },
  {
   "cell_type": "code",
   "execution_count": 29,
   "id": "87746ea4-b136-4b93-9620-1762bedfbed1",
   "metadata": {},
   "outputs": [],
   "source": [
    "simulation_eq.saveState('/scratch/htc/fsafarov/states/trpv1/7rqz/minimization_7lpe.xml')"
   ]
  },
  {
   "cell_type": "code",
   "execution_count": 30,
   "id": "da9a8880-3725-499b-9aa1-48170273ed89",
   "metadata": {},
   "outputs": [],
   "source": [
    "with open('/scratch/htc/fsafarov/states/trpv1/7rqz/minimized_system_1_7lpe.xml', 'w') as f:\n",
    "    f.write(mm.XmlSerializer.serialize(system))"
   ]
  }
 ],
 "metadata": {
  "kernelspec": {
   "display_name": "OpenMM (CUDA2)",
   "language": "python",
   "name": "openmm_ff"
  },
  "language_info": {
   "codemirror_mode": {
    "name": "ipython",
    "version": 3
   },
   "file_extension": ".py",
   "mimetype": "text/x-python",
   "name": "python",
   "nbconvert_exporter": "python",
   "pygments_lexer": "ipython3",
   "version": "3.12.2"
  }
 },
 "nbformat": 4,
 "nbformat_minor": 5
}
